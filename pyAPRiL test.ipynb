{
 "cells": [
  {
   "cell_type": "code",
   "execution_count": 1,
   "metadata": {},
   "outputs": [],
   "source": [
    "import numpy as np\n",
    "from pyapril.detector import cc_detector_ons\n",
    "from pyapril import clutterCancellation as CC\n",
    "from pyapril.caCfar import CA_CFAR\n",
    "from pyapril.RDTools import export_rd_matrix_img\n",
    "\n",
    "# Import libraries to make gif from plot images\n",
    "from glob import glob\n",
    "import contextlib\n",
    "from PIL import Image\n",
    "from IPython.display import clear_output\n",
    "from os import remove"
   ]
  },
  {
   "cell_type": "code",
   "execution_count": 2,
   "metadata": {},
   "outputs": [
    {
     "name": "stdout",
     "output_type": "stream",
     "text": [
      "Parameters:\n",
      "Max Bistatic Range: 128 (km)\n",
      "Max Doppler Frequency: 250 (Hz)\n",
      "Sample Length: 0.6991 (s)\n",
      "Iteration interval: 0.3333 (s)\n"
     ]
    }
   ],
   "source": [
    "# Paramaters\n",
    "# Follow working directory format, with \"pyApril test.ipynb\" + \"Data\", \"Images\", and \"GIFs\" folders in the working folder\n",
    "# Remember to move old gifs out of ./GIFS/ if the name is same as new one, otherwise it will be overwritten\n",
    "\n",
    "# Signal parameters - should match expected parameters of recorded data\n",
    "sample_rate = 3 * 10**6  # sample rate\n",
    "max_bistatic_range = 2**7 # should be power of 2 to work with cc_detector_ons\n",
    "max_doppler = 250 # should be divisible by 10 to work with export_rd_matrix_img\n",
    "N = 2**21 # samples to use in cross correlation, should be power of 2, 19-22 work well at 3-6 Msamples/s\n",
    "\n",
    "# Iteration parameters\n",
    "offset = 0 # offset from start of data, set in number of samples to trim from start of data\n",
    "interval = int(10 * 10**5) # interval length in number of samples, 5*10**5 or 1*10**6 seem to work well for gif output\n",
    "dyn_range = 10 * np.log10(N) # don't touch, used for plotting function's colormap\n",
    "td_filter_dimension = max_bistatic_range # don't touch, used for CC.Wiener_SMI_MRE\n",
    "\n",
    "# CFAR parameters - adjust to produce best result from data\n",
    "win_param = [10, 10, 5, 5] # tried various CFAR parameters, fairly selective and seems to produce decent results\n",
    "threshold = 12\n",
    "\n",
    "# Edit gif name as needed\n",
    "gif_name = \"s\" + (str(int(np.log2(N))))+ \"_r\" + str(max_bistatic_range) + \"_d\" + str(max_doppler)\n",
    "\n",
    "print(f\"Parameters:\\nMax Bistatic Range: {max_bistatic_range} (km)\\nMax Doppler Frequency: {max_doppler} (Hz)\")\n",
    "print(f\"Sample Length: {N/sample_rate:.4} (s)\\nIteration interval: {interval/sample_rate:.4} (s)\")"
   ]
  },
  {
   "cell_type": "code",
   "execution_count": 6,
   "metadata": {
    "tags": []
   },
   "outputs": [
    {
     "name": "stdout",
     "output_type": "stream",
     "text": [
      "ref_ch length: 13.588474666666666 (s)\n",
      "surv_ch length: 13.588474666666666 (s)\n"
     ]
    }
   ],
   "source": [
    "# Data read from ./Data/ - ref_ch should be named rx1.bin, surv_ch should be named rx2.bin\n",
    "ref_ch = np.fromfile(\"./Data/rx1.bin\", np.complex64)\n",
    "\n",
    "surv_ch = np.fromfile(\"./Data/rx2.bin\", np.complex64, count=ref_ch.size)\n",
    "\n",
    "print(f\"ref_ch length: {ref_ch.size/sample_rate} (s)\") # N samples / sampling rate = sample time\n",
    "print(f\"surv_ch length: {surv_ch.size/sample_rate} (s)\")\n",
    "\n",
    "# print(\"Performing clutter cancellation...\") # comment this block to disable clutter cancellation\n",
    "# try: # save filtered surv_ch to file to allow future runs on dataset to save time on cc\n",
    "#     surv_ch = np.fromfile(\"./Data/rx2_cc.bin\", np.complex64, count=ref_ch.size)\n",
    "#     print(\"surv_ch opened from rx2_cc.bin\")\n",
    "# except:\n",
    "#     print(\"No rx2_cc.bin file was found, filtering surv_ch\")\n",
    "#     surv_ch, w = CC.Wiener_SMI_MRE(ref_ch, surv_ch, td_filter_dimension)\n",
    "#     np.save(\"./Data/rx2_cc.bin\",surv_ch)\n",
    "#     print(\"Filtered surv_ch saved to rx2_cc.bin\")\n",
    "# gif_name += \"_cc\"\n",
    "# print(\"Clutter cancellation complete\")"
   ]
  },
  {
   "cell_type": "code",
   "execution_count": null,
   "metadata": {},
   "outputs": [],
   "source": [
    "# clearing previous images from ./Images/\n",
    "files = glob('./Images/*.png')\n",
    "for f in files:\n",
    "    remove(f)\n",
    "\n",
    "# While loop to iterate over length of data recorded in intervals and export rd plot images\n",
    "i = 1\n",
    "n_frames = int(np.floor((ref_ch.size - N - offset)/interval) + 1) # number of frames to divide total data into\n",
    "while i <= n_frames:\n",
    "    print(f\"-----Image frame {i} out of {n_frames}-----\")\n",
    "\n",
    "    ref_ch_sample = ref_ch[offset : offset + N]\n",
    "    surv_ch_sample = surv_ch[offset : offset + N]\n",
    "    print(f\"Sample period: {offset/sample_rate:.4} (s) - {(offset+N)/sample_rate:.4} (s)\")\n",
    "\n",
    "    # Cross-correlation detector, don't modify parameters here\n",
    "    rd_matrix = cc_detector_ons(\n",
    "        ref_ch_sample,\n",
    "        surv_ch_sample,\n",
    "        sample_rate,\n",
    "        max_doppler,\n",
    "        max_bistatic_range,\n",
    "    )\n",
    "    print(\"Calculated rd_matrix\")\n",
    "\n",
    "    # if i==1: # Comment this block to disable CFAR\n",
    "    #     CFAR = CA_CFAR(win_param, threshold, rd_size=rd_matrix.shape)\n",
    "    #     gif_name += \"_cfar\" # adding cfar parameter to end of gif name\n",
    "    # rd_matrix = CFAR(rd_matrix)\n",
    "    # print(\"CFAR complete\")\n",
    "\n",
    "    export_rd_matrix_img(\n",
    "        fname= \"./Images/\" + str(i) + \".png\",\n",
    "        rd_matrix=rd_matrix,\n",
    "        max_Doppler=max_doppler,\n",
    "        ref_point_range_index=0,\n",
    "        ref_point_Doppler_index=0,\n",
    "        box_color=\"None\",\n",
    "        box_size=0,\n",
    "        dyn_range=dyn_range,\n",
    "        dpi=200,\n",
    "        interpolation=\"sinc\",\n",
    "        cmap=\"jet\",\n",
    "    )\n",
    "    print(\"Saved image\\n\")\n",
    "\n",
    "    offset += interval\n",
    "    i += 1\n",
    "    \n",
    "    clear_output()\n",
    "\n",
    "# Making GIF from pngs\n",
    "print(\"Saving GIF...\\n\")\n",
    "with contextlib.ExitStack() as stack:\n",
    "    imgs = (stack.enter_context(Image.open(f)) for f in sorted(glob(\"./Images/*.png\"), key = lambda fname: int(fname[9:-4])))\n",
    "    img = next(imgs)\n",
    "    img.save(fp=\"./GIFs/\" + gif_name + \".gif\", format=\"GIF\", append_images=imgs, save_all=True, duration=100, loop=0)\n",
    "    print(f\"GIF Saved as {gif_name + '.gif'}\")"
   ]
  }
 ],
 "metadata": {
  "kernelspec": {
   "display_name": "passive-bistatic-radar",
   "language": "python",
   "name": "python3"
  },
  "language_info": {
   "codemirror_mode": {
    "name": "ipython",
    "version": 3
   },
   "file_extension": ".py",
   "mimetype": "text/x-python",
   "name": "python",
   "nbconvert_exporter": "python",
   "pygments_lexer": "ipython3",
   "version": "3.11.3"
  },
  "orig_nbformat": 4
 },
 "nbformat": 4,
 "nbformat_minor": 2
}
